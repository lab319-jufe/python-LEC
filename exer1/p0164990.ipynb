{
 "cells": [
  {
   "cell_type": "code",
   "execution_count": 1,
   "metadata": {},
   "outputs": [
    {
     "name": "stdout",
     "output_type": "stream",
     "text": [
      "hello world\n",
      "new text\n"
     ]
    }
   ],
   "source": [
    "hello=\"hello world\"\n",
    "print(hello)\n",
    "hello=\"new text\"\n",
    "print(hello)\n"
   ]
  },
  {
   "cell_type": "code",
   "execution_count": 2,
   "metadata": {},
   "outputs": [
    {
     "name": "stdout",
     "output_type": "stream",
     "text": [
      "江西财经大学\n"
     ]
    }
   ],
   "source": [
    "uni_name='   江西财经大学   '\n",
    "uni_name=uni_name.strip()\n",
    "print(uni_name)"
   ]
  },
  {
   "cell_type": "code",
   "execution_count": 3,
   "metadata": {},
   "outputs": [
    {
     "name": "stdout",
     "output_type": "stream",
     "text": [
      "江西财经大学统计学院\n",
      "江西财经大学\t统计学院\n",
      "江西财经大学\n",
      "统计学院\n"
     ]
    }
   ],
   "source": [
    "school='统计学院'\n",
    "print(uni_name+school)\n",
    "print(uni_name+'\\t'+school)\n",
    "print(uni_name+'\\n'+school)"
   ]
  },
  {
   "cell_type": "code",
   "execution_count": 11,
   "metadata": {},
   "outputs": [
    {
     "name": "stdout",
     "output_type": "stream",
     "text": [
      "叶莉比姚明低36cm\n"
     ]
    }
   ],
   "source": [
    "height_yao = 226\n",
    "height_ye = 190\n",
    "print('叶莉比姚明低%dcm'% (height_yao-height_ye))"
   ]
  }
 ],
 "metadata": {
  "kernelspec": {
   "display_name": "Python 3",
   "language": "python",
   "name": "python3"
  },
  "language_info": {
   "codemirror_mode": {
    "name": "ipython",
    "version": 3
   },
   "file_extension": ".py",
   "mimetype": "text/x-python",
   "name": "python",
   "nbconvert_exporter": "python",
   "pygments_lexer": "ipython3",
   "version": "3.6.4"
  }
 },
 "nbformat": 4,
 "nbformat_minor": 2
}
